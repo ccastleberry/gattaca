{
 "cells": [
  {
   "cell_type": "markdown",
   "id": "160ce672-14fb-4887-a77e-9df6b8284bed",
   "metadata": {},
   "source": [
    "# Single Function Optimization"
   ]
  },
  {
   "cell_type": "markdown",
   "id": "7561a20b-6ddf-4d01-a26a-502efbd24a68",
   "metadata": {},
   "source": [
    "We will use the Gattaca library to approximate an optimal value for the function f(x) = -(3 - x)^2. We know that this function has a maximum at x=3. We will go through the steps to use this library to approximate this value. "
   ]
  },
  {
   "cell_type": "code",
   "execution_count": 1,
   "id": "474b4a6a-9bb0-4737-82e2-31b748874b94",
   "metadata": {},
   "outputs": [],
   "source": [
    "from gattaca.candidate_abc import Candidate\n",
    "from gattaca.genetic_solver import GeneticSolver"
   ]
  },
  {
   "cell_type": "markdown",
   "id": "e38a8bb3-f405-4138-b436-9fdf34d206bb",
   "metadata": {},
   "source": [
    "The first thing that we will need to do is to define our candidate and our scoring function."
   ]
  },
  {
   "cell_type": "markdown",
   "id": "15a7f730-e831-4c21-bcae-361695cbfbcc",
   "metadata": {},
   "source": [
    "## Define that candidate"
   ]
  },
  {
   "cell_type": "markdown",
   "id": "d3169226-5b7b-4bb7-863e-927769aa0e67",
   "metadata": {},
   "source": [
    "To define the candidate we must create a class which inherits from the Candidate abstract base class. It must implement the generate_random, mutate, and crossover methods.\n",
    "\n",
    "Our candidate will hold a single value as it's state and when we generate a random candidate we will randomly choose a value between -100 and 100.\n",
    "\n",
    "When we perform crossover we will simply average the two values together to get the new candidate.\n",
    "\n",
    "When we mutate we will add a value taken randomly from a normal distribution centered at 0 with standard deviation of 5."
   ]
  },
  {
   "cell_type": "code",
   "execution_count": 2,
   "id": "e511b0e4-cb19-473d-ab0d-b464e0d181c8",
   "metadata": {},
   "outputs": [],
   "source": [
    "import random\n",
    "\n",
    "class OurCandidate(Candidate):\n",
    "    def __init__(self, value: float):\n",
    "        self.value = value\n",
    "    \n",
    "    @classmethod\n",
    "    def generate_random(cls):\n",
    "        return OurCandidate(value=random.uniform(-100, 101))\n",
    "                            \n",
    "    def mutate(self):\n",
    "        new_value = self.value + random.normalvariate(0, 5)\n",
    "        return OurCandidate(value=new_value)\n",
    "    \n",
    "    def crossover(self, other):\n",
    "        new_value = (self.value + other.value) / 2\n",
    "        return OurCandidate(value=new_value)"
   ]
  },
  {
   "cell_type": "markdown",
   "id": "0848a2ed-5532-4e9a-8ea9-44fa332400f3",
   "metadata": {},
   "source": [
    "Lets test our candidate before moving on."
   ]
  },
  {
   "cell_type": "code",
   "execution_count": 3,
   "id": "ad8c8d5f-9199-44b0-b0ab-b6d9cbed0971",
   "metadata": {},
   "outputs": [
    {
     "data": {
      "text/plain": [
       "57.80041943024162"
      ]
     },
     "execution_count": 3,
     "metadata": {},
     "output_type": "execute_result"
    }
   ],
   "source": [
    "test_candidate = OurCandidate.generate_random()\n",
    "test_candidate.value"
   ]
  },
  {
   "cell_type": "code",
   "execution_count": 4,
   "id": "5bb0a1a0-5d29-4076-9773-be685b64c10b",
   "metadata": {},
   "outputs": [
    {
     "data": {
      "text/plain": [
       "59.90912552302512"
      ]
     },
     "execution_count": 4,
     "metadata": {},
     "output_type": "execute_result"
    }
   ],
   "source": [
    "mutated_candidate = test_candidate.mutate()\n",
    "mutated_candidate.value"
   ]
  },
  {
   "cell_type": "code",
   "execution_count": 5,
   "id": "33033654-56d1-44d1-b737-5f3db198f8cd",
   "metadata": {},
   "outputs": [
    {
     "data": {
      "text/plain": [
       "58.85477247663337"
      ]
     },
     "execution_count": 5,
     "metadata": {},
     "output_type": "execute_result"
    }
   ],
   "source": [
    "crossover_candidate = test_candidate.crossover(mutated_candidate)\n",
    "crossover_candidate.value"
   ]
  },
  {
   "cell_type": "markdown",
   "id": "79d583b0-ba62-4c60-9169-b301285fade4",
   "metadata": {},
   "source": [
    "Looks like all of our functions are working as expected. Let's now move on to defining our scoring function."
   ]
  },
  {
   "cell_type": "markdown",
   "id": "f2603a72-dc16-4cb3-aff1-300acffcd8f6",
   "metadata": {},
   "source": [
    "## Scoring Function\n",
    "\n",
    "Our scoring function should be a function from a candidate to the real numbers. Since we are just doing single function opimization our scoring function should be quite simple."
   ]
  },
  {
   "cell_type": "code",
   "execution_count": 6,
   "id": "66247a45-961b-4bdb-9a76-872f6ec0094f",
   "metadata": {},
   "outputs": [],
   "source": [
    "def scoring_function(candidate: OurCandidate) -> float:\n",
    "    x = candidate.value\n",
    "    return (3 - x) ** 2"
   ]
  },
  {
   "cell_type": "markdown",
   "id": "73c23c05-f1b6-4763-becd-6543593d74b1",
   "metadata": {},
   "source": [
    "Lets test this our with some of our candidates from earlier."
   ]
  },
  {
   "cell_type": "code",
   "execution_count": 7,
   "id": "0071e9a5-def2-4243-a470-7fc57eddda7b",
   "metadata": {},
   "outputs": [
    {
     "data": {
      "text/plain": [
       "3003.085969730403"
      ]
     },
     "execution_count": 7,
     "metadata": {},
     "output_type": "execute_result"
    }
   ],
   "source": [
    "scoring_function(test_candidate)"
   ]
  },
  {
   "cell_type": "code",
   "execution_count": 8,
   "id": "663b3b7d-b7cf-4ad6-bb05-dee9e6f5ffbb",
   "metadata": {},
   "outputs": [
    {
     "data": {
      "text/plain": [
       "3238.648567795429"
      ]
     },
     "execution_count": 8,
     "metadata": {},
     "output_type": "execute_result"
    }
   ],
   "source": [
    "scoring_function(mutated_candidate)"
   ]
  },
  {
   "cell_type": "code",
   "execution_count": 9,
   "id": "43cd73bb-fe02-4056-9d06-0f8facf93db1",
   "metadata": {},
   "outputs": [
    {
     "data": {
      "text/plain": [
       "3119.7556084164808"
      ]
     },
     "execution_count": 9,
     "metadata": {},
     "output_type": "execute_result"
    }
   ],
   "source": [
    "scoring_function(crossover_candidate)"
   ]
  },
  {
   "cell_type": "markdown",
   "id": "27c04ab9-5796-4a3c-a13b-9a600201f8b1",
   "metadata": {},
   "source": [
    "Looks like what we expect. Let's move on. to running the solver."
   ]
  },
  {
   "cell_type": "markdown",
   "id": "1b31c0f2-df1b-49e1-a749-fe556733c0e6",
   "metadata": {},
   "source": [
    "## Running the Genetic Solver"
   ]
  },
  {
   "cell_type": "markdown",
   "id": "b322e2c8-6691-4468-a1b5-69f8e2f4e5a0",
   "metadata": {},
   "source": [
    "The solver needs to know a minimum of 4 things to run:\n",
    "* population size\n",
    "* number of generations to run\n",
    "* the candidate class \n",
    "* the scoring function"
   ]
  },
  {
   "cell_type": "code",
   "execution_count": 10,
   "id": "4da71973-96b6-419d-a317-038ef21b3ba9",
   "metadata": {},
   "outputs": [],
   "source": [
    "solver = GeneticSolver(\n",
    "    population_size=500_000,\n",
    "    generation_count=100,\n",
    "    candidate_class=OurCandidate,\n",
    "    score_function=scoring_function\n",
    ")"
   ]
  },
  {
   "cell_type": "code",
   "execution_count": 11,
   "id": "b8a922e0-97c4-44e7-ac46-30aee24c7d9b",
   "metadata": {},
   "outputs": [],
   "source": [
    "solution = solver.solve()"
   ]
  },
  {
   "cell_type": "code",
   "execution_count": 12,
   "id": "08462efa-fd21-4e50-8714-7882c13dbeae",
   "metadata": {},
   "outputs": [
    {
     "data": {
      "text/plain": [
       "3.0002420473014837"
      ]
     },
     "execution_count": 12,
     "metadata": {},
     "output_type": "execute_result"
    }
   ],
   "source": [
    "solution.value"
   ]
  },
  {
   "cell_type": "markdown",
   "id": "e63cacce-2a31-4036-b6aa-c87ad8542210",
   "metadata": {},
   "source": [
    "That's not too bad."
   ]
  }
 ],
 "metadata": {
  "kernelspec": {
   "display_name": "gattaca",
   "language": "python",
   "name": "gattaca"
  },
  "language_info": {
   "codemirror_mode": {
    "name": "ipython",
    "version": 3
   },
   "file_extension": ".py",
   "mimetype": "text/x-python",
   "name": "python",
   "nbconvert_exporter": "python",
   "pygments_lexer": "ipython3",
   "version": "3.11.0"
  }
 },
 "nbformat": 4,
 "nbformat_minor": 5
}
